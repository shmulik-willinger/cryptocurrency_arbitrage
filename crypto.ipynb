{
 "cells": [
  {
   "cell_type": "code",
   "execution_count": 108,
   "metadata": {},
   "outputs": [],
   "source": [
    "import gdax\n",
    "public_client = gdax.PublicClient()\n",
    "\n",
    "gdax_btc_price = public_client.get_product_ticker(product_id='BTC-USD')[\"price\"]\n",
    "gdax_eth_price = public_client.get_product_ticker(product_id='ETH-USD')[\"price\"]\n",
    "gdax_bch_price = public_client.get_product_ticker(product_id='Bch-USD')[\"price\"]\n",
    "gdax_ltc_price = public_client.get_product_ticker(product_id='LTC-USD')[\"price\"]\n",
    "\n",
    "gdax_ticker = []\n",
    "gdax_ticker.append(float(gdax_btc_price)-8000)\n",
    "gdax_ticker.append(float(gdax_eth_price))\n",
    "gdax_ticker.append(float(gdax_bch_price))\n",
    "gdax_ticker.append(0) # not supported\n",
    "gdax_ticker.append(float(gdax_ltc_price))\n"
   ]
  },
  {
   "cell_type": "code",
   "execution_count": 109,
   "metadata": {},
   "outputs": [],
   "source": [
    "import requests\n",
    "\n",
    "response = requests.request(\"GET\", \"https://api.bitfinex.com/v1/pubticker/btcusd\").text\n",
    "bitfinex_btc_price = response.split('\"')[3]\n",
    "\n",
    "response = requests.request(\"GET\", \"https://api.bitfinex.com/v1/pubticker/ethusd\").text\n",
    "bitfinex_eth_price = response.split('\"')[3]\n",
    "\n",
    "response = requests.request(\"GET\", \"https://api.bitfinex.com/v1/pubticker/bchusd\").text\n",
    "bitfinex_bch_price = response.split('\"')[3]\n",
    "\n",
    "response = requests.request(\"GET\", \"https://api.bitfinex.com/v1/pubticker/ltcusd\").text\n",
    "bitfinex_ltc_price = response.split('\"')[3]\n",
    "\n",
    "response = requests.request(\"GET\", \"https://api.bitfinex.com/v1/pubticker/btgusd\").text\n",
    "bitfinex_btg_price = response.split('\"')[3]\n",
    "\n",
    "bitfinex_ticker = []\n",
    "bitfinex_ticker.append(float(bitfinex_btc_price)-8000)\n",
    "bitfinex_ticker.append(float(bitfinex_eth_price))\n",
    "bitfinex_ticker.append(float(bitfinex_bch_price))\n",
    "bitfinex_ticker.append(float(bitfinex_btg_price))\n",
    "bitfinex_ticker.append(float(bitfinex_ltc_price))"
   ]
  },
  {
   "cell_type": "code",
   "execution_count": 110,
   "metadata": {},
   "outputs": [],
   "source": [
    "response = requests.request(\"GET\", \"https://yobit.net/api/2/btc_usd/ticker\").text\n",
    "yobit_btc_price = response.split('\"')[14].split(':')[1].split(',')[0]\n",
    "\n",
    "response = requests.request(\"GET\", \"https://yobit.net/api/2/eth_usd/ticker\").text\n",
    "yobit_eth_price = response.split('\"')[14].split(':')[1].split(',')[0]\n",
    "\n",
    "response = requests.request(\"GET\", \"https://yobit.net/api/2/bcc_usd/ticker\").text\n",
    "yobit_bch_price = response.split('\"')[14].split(':')[1].split(',')[0]\n",
    "\n",
    "response = requests.request(\"GET\", \"https://yobit.net/api/2/btg_usd/ticker\").text\n",
    "yobit_btg_price = response.split('\"')[14].split(':')[1].split(',')[0]\n",
    "\n",
    "response = requests.request(\"GET\", \"https://yobit.net/api/2/ltc_usd/ticker\").text\n",
    "yobit_ltc_price = response.split('\"')[14].split(':')[1].split(',')[0]\n",
    "\n",
    "yobit_ticker = []\n",
    "yobit_ticker.append(float(yobit_btc_price)-8000)\n",
    "yobit_ticker.append(float(yobit_eth_price))\n",
    "yobit_ticker.append(float(yobit_bch_price))\n",
    "yobit_ticker.append(float(yobit_btg_price))\n",
    "yobit_ticker.append(float(yobit_ltc_price))\n"
   ]
  },
  {
   "cell_type": "code",
   "execution_count": 111,
   "metadata": {},
   "outputs": [],
   "source": [
    "response = requests.request(\"GET\", \"https://www.bit2c.co.il/Exchanges/GetPrice?IsBid=false&total=0&pair=BtcNis&amount=1\").text\n",
    "bit2c_btc_price = response.split(',')[1].split(':')[1]\n",
    "\n",
    "response = requests.request(\"GET\", \"https://www.bit2c.co.il/Exchanges/GetPrice?IsBid=false&total=0&pair=BchNis&amount=1\").text\n",
    "bit2c_bch_price = response.split(',')[1].split(':')[1]\n",
    "\n",
    "response = requests.request(\"GET\", \"https://www.bit2c.co.il/Exchanges/GetPrice?IsBid=false&total=0&pair=BtgNis&amount=1\").text\n",
    "bit2c_btg_price = response.split(',')[1].split(':')[1]\n",
    "\n",
    "response = requests.request(\"GET\", \"https://www.bit2c.co.il/Exchanges/GetPrice?IsBid=false&total=0&pair=LtcNis&amount=1\").text\n",
    "bit2c_ltc_price = response.split(',')[1].split(':')[1]\n",
    "\n",
    "bit2c_ticker = []\n",
    "bit2c_ticker.append((float(bit2c_btc_price)/3.5)-8000)\n",
    "bit2c_ticker.append(0) # eth\n",
    "bit2c_ticker.append(float(bit2c_bch_price)/3.5)\n",
    "bit2c_ticker.append(float(bit2c_btg_price)/3.5)\n",
    "bit2c_ticker.append(float(bit2c_ltc_price)/3.5)"
   ]
  },
  {
   "cell_type": "code",
   "execution_count": 112,
   "metadata": {},
   "outputs": [],
   "source": [
    "response = requests.request(\"GET\", \"https://cex.io/api/ticker/BTC/USD\").text\n",
    "cex_btc_price = response.split('\"')[15]\n",
    "\n",
    "response = requests.request(\"GET\", \"https://cex.io/api/ticker/ETH/USD\").text\n",
    "cex_eth_price = response.split('\"')[15]\n",
    "\n",
    "response = requests.request(\"GET\", \"https://cex.io/api/ticker/BCH/USD\").text\n",
    "cex_bch_price = response.split('\"')[15]\n",
    "\n",
    "response = requests.request(\"GET\", \"https://cex.io/api/ticker/BTG/USD\").text\n",
    "cex_btg_price = response.split('\"')[15]\n",
    "\n",
    "\n",
    "cex_ticker = []\n",
    "cex_ticker.append(float(cex_btc_price)-8000)\n",
    "cex_ticker.append(float(cex_eth_price))\n",
    "cex_ticker.append(float(cex_bch_price))\n",
    "cex_ticker.append(float(cex_btg_price))\n",
    "cex_ticker.append(0) # ltc"
   ]
  },
  {
   "cell_type": "code",
   "execution_count": 113,
   "metadata": {},
   "outputs": [
    {
     "name": "stdout",
     "output_type": "stream",
     "text": [
      "\n",
      "Bitfinex to Cex:\n",
      "btc: 2.043112827186036\n",
      "eth: 1.9944506104328497\n",
      "bch: 2.5595414566656842\n",
      "btg: 2.997018672524703\n",
      "\n",
      "Bit2c to Cex:\n",
      "btc: 3.4466401320376434\n",
      "bch: 11.77594217582201\n",
      "btg: 1.3696173589473375\n"
     ]
    }
   ],
   "source": [
    "print(\"\")\n",
    "print(\"Bitfinex to Cex:\")\n",
    "Comparison_btc = 100 - (float(bitfinex_btc_price) / float(cex_btc_price) * 100)\n",
    "print(\"btc:\", Comparison_btc)\n",
    "\n",
    "Comparison_eth = 100 - (float(bitfinex_eth_price) / float(cex_eth_price) * 100)\n",
    "print(\"eth:\", Comparison_eth)\n",
    "\n",
    "Comparison_bch = 100 - (float(bitfinex_bch_price) / float(cex_bch_price) * 100)\n",
    "print(\"bch:\", Comparison_bch)\n",
    "\n",
    "Comparison_btg = 100 - (float(bitfinex_btg_price) / float(cex_btg_price) * 100)\n",
    "print(\"btg:\", Comparison_btg)\n",
    "\n",
    "print(\"\")\n",
    "print(\"Bit2c to Cex:\")\n",
    "Comparison_btc_bit2c_cex = 100 - (float(bit2c_btc_price)/3.5 / float(cex_btc_price) * 100)\n",
    "print(\"btc:\", Comparison_btc_bit2c_cex)\n",
    "\n",
    "Comparison_bch_bit2c_cex = 100 - (float(bit2c_bch_price)/3.5 / float(cex_bch_price) * 100)\n",
    "print(\"bch:\", Comparison_bch_bit2c_cex)\n",
    "\n",
    "Comparison_btg_bit2c_cex = 100 - (float(bit2c_btg_price)/3.5 / float(cex_btg_price) * 100)\n",
    "print(\"btg:\", Comparison_btg_bit2c_cex)\n"
   ]
  },
  {
   "cell_type": "code",
   "execution_count": 114,
   "metadata": {},
   "outputs": [
    {
     "data": {
      "image/png": "[encoded data removed]",
      "text/plain": [
       "<matplotlib.figure.Figure at 0x1fbe623c518>"
      ]
     },
     "metadata": {},
     "output_type": "display_data"
    }
   ],
   "source": [
    "import numpy as np\n",
    "import matplotlib.pyplot as plt\n",
    " \n",
    "# data to plot\n",
    "n_groups = 1\n",
    " \n",
    "# create plot\n",
    "#fig, ax = plt.subplots()\n",
    "\n",
    "fig = plt.figure(figsize=(4, 6))\n",
    "index = np.arange(n_groups)\n",
    "bar_width = 0.8\n",
    "opacity = 0.6\n",
    " \n",
    "    \n",
    "rects0 = plt.bar(index, float(gdax_btc_price), bar_width, alpha=opacity, color='y',label='gdax')\n",
    "rects1 = plt.bar(index + bar_width, float(bitfinex_btc_price), bar_width, alpha=opacity, color='r',label='bitfinex')\n",
    "rects2 = plt.bar(index + bar_width*2, float(bit2c_btc_price)/3.5, bar_width, alpha=opacity, color='b', label='bit2c')\n",
    "rects3 = plt.bar(index + bar_width*3, float(cex_btc_price), bar_width, alpha=opacity, color='#cc66ff',label='cex') \n",
    "rects4 = plt.bar(index + bar_width*4, float(yobit_btc_price), bar_width, alpha=opacity, color='g',label='yobit') \n",
    "\n",
    "\n",
    "def autolabel(rects):\n",
    "    for rect in rects:\n",
    "        height = rect.get_height()\n",
    "        plt.text(rect.get_x() + rect.get_width()/2., 1.05*height,'%d' % int(height),ha='center', va='bottom')\n",
    "\n",
    "autolabel(rects0)\n",
    "autolabel(rects1)\n",
    "autolabel(rects2)\n",
    "autolabel(rects3)\n",
    "autolabel(rects4)\n",
    "\n",
    "plt.xlabel('Crypto')\n",
    "plt.ylabel('Current price')\n",
    "plt.title('Cryptotrage')\n",
    "plt.xticks(index + bar_width, ('Btc'))\n",
    "plt.legend(bbox_to_anchor=(1.05, 1), loc=2, borderaxespad=0.)\n",
    " \n",
    "plt.tight_layout()\n",
    "plt.show()"
   ]
  },
  {
   "cell_type": "code",
   "execution_count": 115,
   "metadata": {},
   "outputs": [
    {
     "name": "stdout",
     "output_type": "stream",
     "text": [
      "Bitfinex to Cex:\n",
      "btc: 2.04 , equals to: 191.55 $\n",
      "eth: 1.99\n",
      "bch: 2.56\n",
      "btg: 3.00\n",
      "\n",
      "Bit2c to Cex:\n",
      "btc: 3.45\n",
      "bch: 11.78\n",
      "btg: 1.37\n"
     ]
    }
   ],
   "source": [
    "print(\"Bitfinex to Cex:\")\n",
    "print(\"btc: {0:.2f}\".format(Comparison_btc), \", equals to: {0:.2f} $\".format(float(cex_btc_price) - float(bitfinex_btc_price)))\n",
    "print(\"eth: {0:.2f}\".format(Comparison_eth))\n",
    "print(\"bch: {0:.2f}\".format( Comparison_bch))\n",
    "print(\"btg: {0:.2f}\".format(Comparison_btg))\n",
    "\n",
    "print(\"\")\n",
    "print(\"Bit2c to Cex:\")\n",
    "print(\"btc: {0:.2f}\".format(Comparison_btc_bit2c_cex))\n",
    "print(\"bch: {0:.2f}\".format(Comparison_bch_bit2c_cex))\n",
    "print(\"btg: {0:.2f}\".format(Comparison_btg_bit2c_cex))\n"
   ]
  },
  {
   "cell_type": "code",
   "execution_count": 116,
   "metadata": {
    "collapsed": true
   },
   "outputs": [],
   "source": [
    "def send_email(user, pwd, recipient, subject, body):\n",
    "    import smtplib\n",
    "\n",
    "    gmail_user = user\n",
    "    gmail_pwd = pwd\n",
    "    FROM = user\n",
    "    TO = recipient if type(recipient) is list else [recipient]\n",
    "    SUBJECT = subject\n",
    "    TEXT = body\n",
    "\n",
    "    # Prepare actual message\n",
    "    message = \"\"\"From: %s\\nTo: %s\\nSubject: %s\\n\\n%s\n",
    "    \"\"\" % (FROM, \", \".join(TO), SUBJECT, TEXT)\n",
    "    try:\n",
    "        server = smtplib.SMTP(\"smtp.gmail.com\", 587)\n",
    "        server.ehlo()\n",
    "        server.starttls()\n",
    "        server.login(gmail_user, gmail_pwd)\n",
    "        server.sendmail(FROM, TO, message)\n",
    "        server.close()\n",
    "        print (\"successfully sent the mail\")\n",
    "    except:\n",
    "        print (\"failed to send mail\")\n",
    "        \n",
    "#send_email(\"MAIL_ADD\", \"PASS\", \"SEND_TO\", \"crypto\", \"Notification\")"
   ]
  },
  {
   "cell_type": "code",
   "execution_count": 117,
   "metadata": {},
   "outputs": [
    {
     "data": {
      "image/png": "[encoded data removed]",
      "text/plain": [
       "<matplotlib.figure.Figure at 0x1fbe63266a0>"
      ]
     },
     "metadata": {},
     "output_type": "display_data"
    }
   ],
   "source": [
    "import numpy as np\n",
    "import matplotlib.pyplot as plt\n",
    " \n",
    "# data to plot\n",
    "n_groups = 5\n",
    " \n",
    "# create plot\n",
    "#fig, ax = plt.subplots()\n",
    "\n",
    "fig = plt.figure(figsize=(15, 4))\n",
    "index = np.arange(n_groups)\n",
    "bar_width = 0.15\n",
    "opacity = 0.6\n",
    " \n",
    "    \n",
    "rects0 = plt.bar(index, gdax_ticker, bar_width, alpha=opacity, color='y',label='gdax')\n",
    "rects1 = plt.bar(index + bar_width, bitfinex_ticker, bar_width, alpha=opacity, color='r',label='bitfinex')\n",
    "rects2 = plt.bar(index + bar_width*2, bit2c_ticker, bar_width, alpha=opacity, color='b', label='bit2c')\n",
    "rects3 = plt.bar(index + bar_width*3, cex_ticker, bar_width, alpha=opacity, color='#cc66ff',label='cex') \n",
    "rects4 = plt.bar(index + bar_width*4, yobit_ticker, bar_width, alpha=opacity, color='g',label='yobit') \n",
    "\n",
    "\n",
    "def autolabel(rects):\n",
    "    for rect in rects:\n",
    "        height = rect.get_height()\n",
    "        plt.text(rect.get_x() + rect.get_width()/2., 1.05*height,'%d' % int(height),ha='center', va='bottom')\n",
    "\n",
    "autolabel(rects0)\n",
    "autolabel(rects1)\n",
    "autolabel(rects2)\n",
    "autolabel(rects3)\n",
    "autolabel(rects4)\n",
    "\n",
    "plt.xlabel('Crypto')\n",
    "plt.ylabel('Current price')\n",
    "plt.title('Cryptotrage')\n",
    "plt.xticks(index + bar_width, ('Btc', 'Eth', 'Bch', 'Btg', 'Ltc'))\n",
    "plt.legend()\n",
    " \n",
    "\n",
    "#plt.tight_layout()\n",
    "plt.show()"
   ]
  },
  {
   "cell_type": "code",
   "execution_count": null,
   "metadata": {
    "collapsed": true
   },
   "outputs": [],
   "source": []
  }
 ],
 "metadata": {
  "kernelspec": {
   "display_name": "Python 3",
   "language": "python",
   "name": "python3"
  },
  "language_info": {
   "codemirror_mode": {
    "name": "ipython",
    "version": 3
   },
   "file_extension": ".py",
   "mimetype": "text/x-python",
   "name": "python",
   "nbconvert_exporter": "python",
   "pygments_lexer": "ipython3",
   "version": "3.6.3"
  }
 },
 "nbformat": 4,
 "nbformat_minor": 2
}
